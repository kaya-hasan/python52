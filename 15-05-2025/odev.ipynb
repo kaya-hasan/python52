{
 "cells": [
  {
   "cell_type": "markdown",
   "metadata": {},
   "source": [
    "### 1️⃣ Soru:\n",
    "  - while döngüsü ile 1’den 5’e kadar olan sayıları ekrana yazdıran kodu yazınız.\n",
    "### 2️⃣ Soru:\n",
    "  - range() fonksiyonunu kullanarak 0’dan 10’a kadar (10 dahil değil) olan sayıların toplamını hesaplayan bir Python kodu yazınız.\n",
    "### 3️⃣ Soru:\n",
    "  - Kullanıcıdan bir sayı alıp, bu sayıyı sıfıra ulaşana kadar her seferinde 1 azaltıp ekrana yazdıran while döngüsü kodu yazınız.\n",
    "### 4️⃣ Soru:\n",
    "  - range(2, 11, 2) ifadesi hangi sayıları üretir? Sonucu liste olarak yazınız.\n",
    "### 5️⃣ Soru:\n",
    "  - Bir while döngüsü ile kullanıcı \"exit\" yazana kadar kullanıcıdan metin girmesini isteyen Python programını yazınız."
   ]
  }
 ],
 "metadata": {
  "language_info": {
   "name": "python"
  }
 },
 "nbformat": 4,
 "nbformat_minor": 2
}
