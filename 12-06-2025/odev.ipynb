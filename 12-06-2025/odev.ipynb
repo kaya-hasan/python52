{
 "cells": [
  {
   "cell_type": "markdown",
   "metadata": {},
   "source": [
    "## Programlama Ödevi - Modüller\n",
    "### Proje 1\n",
    "- Math modülündeki hazır fonksiyonları kullanarak gelişmiş bir hesap makinesi geliştirmeye çalışın.\n",
    "\n",
    "### Proje 2\n",
    "- Math modülünde kullandığınız fonksiyonları kendiniz de ayrı bir modüle (Python dosyasına) yazmaya çalışın ve bu yazdığınız modülü kullanarak gelişmiş bir hesap makinesi yazın."
   ]
  }
 ],
 "metadata": {
  "language_info": {
   "name": "python"
  }
 },
 "nbformat": 4,
 "nbformat_minor": 2
}
