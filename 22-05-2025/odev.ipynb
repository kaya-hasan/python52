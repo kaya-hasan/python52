{
 "cells": [
  {
   "cell_type": "markdown",
   "metadata": {},
   "source": [
    "## Programlama Ödevi - Döngüler\n",
    "\n",
    "### Problem 1\n",
    "Kullanıcıdan aldığınız bir sayının mükemmel olup olmadığını bulmaya çalışın.\n",
    "\n",
    "Bir sayının kendi hariç pozitif tam sayı bölenlerinin toplamı kendine eşitse bu sayıya *\"mükemmel sayı\"* denir. Örnek olarak, 6 mükemmel bir sayıdır. (1 + 2 + 3 = 6)\n",
    "\n",
    "### Problem 2\n",
    "Kullanıcıdan aldığınız bir sayının \"Armstrong\" sayısı olup olmadığını bulmaya çalışın.\n",
    "\n",
    "Örnek olarak, Bir sayı eğer 4 basamaklı ise ve oluşturan rakamlardan herbirinin 4. kuvvetinin toplamı( 3 basamaklı sayılar için 3.kuvveti ) o sayıya eşitse bu sayıya *\"Armstrong\"* sayısı denir.\n",
    "\n",
    "*Örnek olarak :* 1634 = 1^4 + 6^4 + 3^4 + 4^4\n",
    "\n",
    "### Problem 3\n",
    "1'den 10'kadar olan sayılarla ekrana çarpım tablosu bastırmaya çalışın.\n",
    "\n",
    "**İpucu: İç içe 2 tane for döngüsü kullanın. Aynı zamanda sayıları range() fonksiyonunu kullanarak elde edin.**\n",
    "\n",
    "### Problem 4\n",
    "Her bir while döngüsünde kullanıcıdan bir sayı alın ve kullanıcının girdiği sayıları \"toplam\" isimli bir değişkene ekleyin. Kullanıcı \"q\" tuşuna bastığı zaman döngüyü sonlandırın ve ekrana \"toplam değişkenini\" bastırın.\n",
    "\n",
    "**İpucu : while döngüsünü sonsuz koşulla başlatın ve kullanıcı q'ya basarsa döngüyü break ile sonlandırın.**\n",
    "\n",
    "\n",
    "### Problem 5\n",
    "1'den 100'e kadar olan sayılardan sadece 3'e bölünen sayıları ekrana bastırın. Bu işlemi **continue** ile yapmaya çalışın.\n",
    "\n",
    "### Problem 6\n",
    "\n",
    "Buradaki problemin çözümünü derslerimizde özellikle öğrenmedik. Burada mantık yürüterek ve list comprehension kullanarak 1'den 100'e kadar olan sayılardan sadece çift sayıları bir listeye atmayı yapmayı çalışın.\n",
    "\n",
    "*Not:* Programlamada her detayı öğrenemeyiz. Bunun için bazı yerlerde deneme yanılma yoluyla da öğrendiğimiz şeyler olur. Bu problemde deneme yanılma yoluyla list comprehension'ın koşullu durumlarla kullanımını öğreneceksiniz.\n",
    "\n",
    "*İpucu:* Basit düşünmeye çalışın.\n"
   ]
  }
 ],
 "metadata": {
  "language_info": {
   "name": "python"
  }
 },
 "nbformat": 4,
 "nbformat_minor": 2
}
