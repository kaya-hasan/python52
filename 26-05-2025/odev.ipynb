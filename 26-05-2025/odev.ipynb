{
 "cells": [
  {
   "cell_type": "markdown",
   "metadata": {},
   "source": [
    "### 1. List Comprehension – Şartlı İfade\n",
    "  numbers listesindeki her bir sayı için:\n",
    "\n",
    "  Eğer sayı çiftse karesini,\n",
    "\n",
    "  Eğer sayı tekse kendisini alacak yeni bir liste oluştur.\n",
    "\n",
    "numbers = [1, 2, 3, 4, 5, 6, 7, 8]\n",
    "\n",
    "### list comprehension ile şartlı bir liste oluştur\n",
    "### 2. For Döngüsü – İç İçe Döngü\n",
    "Aşağıdaki liste içindeki tüm sayıların çarpımını hesapla.\n",
    "(Not: liste içinde alt listeler var.)\n",
    "\n",
    "\n",
    "nested = [[1, 2], [3, 4], [5]]\n",
    "### for döngüsü kullanarak tüm sayıların çarpımını bul\n",
    "\n",
    "### 3. While Döngüsü – Kullanıcı Girişi ile Döngü\n",
    "Kullanıcıdan sayılar alarak negatif bir sayı girene kadar toplamı toplayan bir while döngüsü yaz. Negatif sayı girilince toplamı ekrana yazdır.\n",
    "\n",
    "\n",
    "*örnek giriş: 5, 10, 3, -1 → çıktı: 18*\n",
    "### 4. List Comprehension – Düzleştirme\n",
    "Aşağıdaki iç içe listeyi düzleştir (flatten) ve tek bir liste haline getir.\n",
    "\n",
    "matrix = [[1, 2, 3], [4, 5], [6]]\n",
    "\n",
    "### list comprehension ile düzleştirilmiş bir liste oluştur: [1, 2, 3, 4, 5, 6]\n",
    "5. For Döngüsü – Karakter Sayacı\n",
    "Bir string içindeki her bir karakterin kaç kez geçtiğini sözlük şeklinde sayan bir for döngüsü yaz.\n",
    "\n",
    "text = \"banana\"\n",
    "*çıktı: {'b': 1, 'a': 3, 'n': 2}*\n"
   ]
  }
 ],
 "metadata": {
  "language_info": {
   "name": "python"
  }
 },
 "nbformat": 4,
 "nbformat_minor": 2
}
