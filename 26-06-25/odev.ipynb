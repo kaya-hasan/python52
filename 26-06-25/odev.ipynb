{
 "cells": [
  {
   "cell_type": "markdown",
   "metadata": {},
   "source": [
    "## Programlama Ödevi -  Dosya İşlemleri\n",
    "\n",
    "### Proje 1 \n",
    "\n",
    "Kodlama egzersizimizde bir sınıfın harf notlarını hesapladığımız programı geliştirerek kalanları \"kalanlar.txt\" dosyasında ve geçenleri \"geçenler.txt\" dosyasına yazmaya çalışın."
   ]
  },
  {
   "cell_type": "markdown",
   "metadata": {},
   "source": [
    "### Proje 2\n",
    "\n",
    "\"futbolcular.txt\" şeklinde bir dosya oluşturun ve içine Galatasaray,Fenerbahçe ve Beşiktaşta oynayan futbolcuları rastgele yerleştirin. Bu dosyadan herbir takımın futbolcularını ayırarak \"gs.txt\" , \"fb.txt\", \"bjk.txt\" şeklinde 3 farklı dosyaya yazın. \n",
    "\n",
    "\"futbolcular.txt\" dosyasının başlangıç hali şu şekilde olsun.\n",
    "\n",
    "\n",
    "                    Fernando Muslera,Galatasaray\n",
    "                    Atiba Hutchinson,Beşiktaş\n",
    "                    Simon Kjaer,Fenerbahçe\n",
    "                               //\n",
    "                               //\n",
    "                               //\n",
    "                               //\n",
    "                               //\n"
   ]
  }
 ],
 "metadata": {
  "language_info": {
   "name": "python"
  }
 },
 "nbformat": 4,
 "nbformat_minor": 2
}
