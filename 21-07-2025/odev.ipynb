{
 "cells": [
  {
   "cell_type": "markdown",
   "metadata": {},
   "source": [
    "## Programlama Ödevi -  Decoratorlar\n",
    "\n",
    "### Araştırma\n",
    "\n",
    "Python'da decoratorların nerelerde ve nasıl kullanıldığını araştırın."
   ]
  },
  {
   "cell_type": "markdown",
   "metadata": {},
   "source": [
    "### Program\n",
    "\n",
    "1'den 1000'e kadar olan asal sayıları ekrana yazdıran bir fonksiyon yazın. Daha sonra bir tane **decorator fonksiyon** kullanarak bu fonksiyona 1'den 1000'e kadar olan mükemmel sayıları yazdırma özelliği de ekleyin."
   ]
  }
 ],
 "metadata": {
  "language_info": {
   "name": "python"
  }
 },
 "nbformat": 4,
 "nbformat_minor": 2
}
