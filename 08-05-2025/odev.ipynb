{
 "cells": [
  {
   "cell_type": "markdown",
   "metadata": {},
   "source": [
    "# 08.05.2025"
   ]
  },
  {
   "cell_type": "markdown",
   "metadata": {},
   "source": [
    "## Programlama Ödevi - Temel Python Objeleri ve Veri Yapıları\n",
    "\n",
    "### Problem 1\n",
    "- Kullanıcıdan aldığınız 3 tane sayıyı çarparak ekrana yazdırın. Ekrana yazdırma işlemini format metoduyla yapmaya çalışın.\n",
    "\n",
    "### Problem 2\n",
    "- Kullanıcıdan aldığınız boy ve kilo değerlerine göre kullanıcının beden kitle indeksini bulun.\n",
    "\n",
    "- *Beden Kitle İndeksi : Kilo / (Boy(m) * Boy(m))\n",
    "\n",
    "### Problem 3\n",
    "- Bir aracın kilometrede ne kadar yaktığı ve kaç kilometre yol yaptığı bilgilerini alın ve sürücünü toplam ne kadar ödemesini gerektiğini hesaplayın.\n",
    "\n",
    "### Problem 4\n",
    "- Kullanıcıdan ad,soyad ve numara bilgisini alarak bunları alt alta ekrana yazdırın.\n",
    "\n",
    "### Problem 5\n",
    "- Kullanıcıdan iki tane sayı isteyin ve bu sayıların değerlerini birbirleriyle değiştirin.\n",
    "\n",
    "### Problem 6\n",
    "- Kullanıcıdan bir dik üçgenin dik olan iki kenarını(a,b) alın ve hipotenüs uzunluğunu bulmaya çalışın.\n",
    "\n",
    "- Hipotenüs Formülü: a^2 + b^2 = c^2"
   ]
  }
 ],
 "metadata": {
  "language_info": {
   "name": "python"
  }
 },
 "nbformat": 4,
 "nbformat_minor": 2
}
