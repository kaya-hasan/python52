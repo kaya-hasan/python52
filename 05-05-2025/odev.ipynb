{
 "cells": [
  {
   "cell_type": "markdown",
   "metadata": {},
   "source": [
    "# 05.05.2025\n",
    "\n",
    "### Bir sayının tek mi çift mi olduğunu nasıl kontrol edersin?\n",
    "\n",
    "- Örnek: x = 7 için tek mi çift mi olduğunu ekrana yazdır.\n",
    "\n",
    "### Kullanıcıdan alınan iki sayının toplamını ekrana yazdıran bir Python programı yaz.\n",
    "\n",
    "### Bir string'in kaç karakterden oluştuğunu bulan kodu yaz.\n",
    "\n",
    "- Örnek: \"Merhaba\" kelimesinin uzunluğu nedir?\n",
    "\n",
    "### Bir string'i tersten yazdıran bir Python programı yaz.\n",
    "\n",
    "- Örnek: \"python\" → \"nohtyp\"\n",
    "\n",
    "### Bir cümlede kaç tane kelime olduğunu bulan kodu yaz.\n",
    "\n",
    "- Örnek: \"Bugün hava çok güzel\" → 4 kelime"
   ]
  }
 ],
 "metadata": {
  "language_info": {
   "name": "python"
  }
 },
 "nbformat": 4,
 "nbformat_minor": 2
}
