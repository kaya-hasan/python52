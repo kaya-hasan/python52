{
 "cells": [
  {
   "cell_type": "markdown",
   "metadata": {},
   "source": [
    "## Programlama Ödevi -  Hatalar ve İstisnalar\n",
    "\n",
    "### Problem 1\n",
    "\n",
    "Elinizde stringlerin bulunduğu bir liste bulunduğunu düşünün.\n",
    "\n",
    "*liste = [\"345\",\"sadas\",\"324a\",\"14\",\"kemal\"]*\n",
    "\n",
    "Bu listenin içindeki stringlerden içinde sadece rakam bulunanları ekrana yazdırın. Bunu yaparken try,except bloklarını kullanmayı unutmayın."
   ]
  },
  {
   "cell_type": "markdown",
   "metadata": {},
   "source": [
    "### Problem 2\n",
    "\n",
    "Bir sayının çift olup olmadığını sorgulayan bir fonksiyon yazın. Bu fonksiyon, eğer sayı çift ise ***return*** ile bu değeri dönsün. Ancak sayı tek sayı ise fonksiyon ***raise*** ile ***ValueError*** hatası fırlatsın. Daha sonra, içinde çift ve tek sayılar bulunduran bir liste tanımlayın ve liste üzerinde gezinerek ekrana sadece çift sayıları bastırın."
   ]
  }
 ],
 "metadata": {
  "language_info": {
   "name": "python"
  }
 },
 "nbformat": 4,
 "nbformat_minor": 2
}
